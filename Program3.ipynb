{
  "nbformat": 4,
  "nbformat_minor": 0,
  "metadata": {
    "colab": {
      "provenance": []
    },
    "kernelspec": {
      "name": "python3",
      "display_name": "Python 3"
    },
    "language_info": {
      "name": "python"
    }
  },
  "cells": [
    {
      "cell_type": "code",
      "execution_count": null,
      "metadata": {
        "colab": {
          "base_uri": "https://localhost:8080/"
        },
        "id": "II6nEpto3gIJ",
        "outputId": "2e2203f8-42a9-4c82-e1b1-b7f5b009d1c3"
      },
      "outputs": [
        {
          "output_type": "stream",
          "name": "stdout",
          "text": [
            "Matrix X is:\n",
            " [[1 2]\n",
            " [3 4]]\n",
            "Matrix Y is:\n",
            " [[5 6]\n",
            " [7 8]]\n",
            "X^2 =\n",
            " [[ 1  4]\n",
            " [ 9 16]]\n",
            "X^2 + 2*Y is\n",
            " [[11 16]\n",
            " [23 32]]\n"
          ]
        }
      ],
      "source": [
        "import numpy as np\n",
        "\n",
        "X = np.array([[1, 2], [3, 4]])\n",
        "Y = np.array([[5, 6], [7, 8]])\n",
        "\n",
        "print(\"Matrix X is:\\n\", X)\n",
        "print(\"Matrix Y is:\\n\", Y)\n",
        "\n",
        "a = np.power(X, 2)\n",
        "print(\"X^2 =\\n\", a)\n",
        "\n",
        "result = a + 2 * Y\n",
        "print(\"X^2 + 2*Y is\\n\", result)\n"
      ]
    }
  ]
}