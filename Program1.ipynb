{
  "nbformat": 4,
  "nbformat_minor": 0,
  "metadata": {
    "colab": {
      "provenance": []
    },
    "kernelspec": {
      "name": "python3",
      "display_name": "Python 3"
    },
    "language_info": {
      "name": "python"
    }
  },
  "cells": [
    {
      "cell_type": "code",
      "execution_count": null,
      "metadata": {
        "colab": {
          "base_uri": "https://localhost:8080/"
        },
        "id": "hf4tUvQfya3A",
        "outputId": "458d67fa-958b-4d2f-ac23-4171887a857f"
      },
      "outputs": [
        {
          "output_type": "stream",
          "name": "stdout",
          "text": [
            "Array from list: [1 2 3 4 5]\n",
            "Array with range: [0 1 2 3 4 5 6 7 8 9]\n",
            "Array of zeros:\n",
            " [[0. 0. 0.]\n",
            " [0. 0. 0.]\n",
            " [0. 0. 0.]]\n",
            "Array of ones:\n",
            " [[1. 1. 1. 1.]\n",
            " [1. 1. 1. 1.]]\n"
          ]
        }
      ],
      "source": [
        "import numpy as np\n",
        "\n",
        "array_from_list = np.array([1, 2, 3, 4, 5])\n",
        "print(\"Array from list:\", array_from_list)\n",
        "\n",
        "array_with_range = np.arange(10)\n",
        "print(\"Array with range:\", array_with_range)\n",
        "\n",
        "zeros_array = np.zeros((3, 3))\n",
        "print(\"Array of zeros:\\n\", zeros_array)\n",
        "\n",
        "ones_array = np.ones((2, 4))\n",
        "print(\"Array of ones:\\n\", ones_array)\n"
      ]
    },
    {
      "cell_type": "code",
      "source": [
        "import numpy as np\n",
        "\n",
        "a = np.array([1, 2, 3])\n",
        "b = np.array([4, 5, 6])\n",
        "\n",
        "add_result = np.add(a, b)\n",
        "print(\"Addition:\", add_result)\n",
        "\n",
        "sub_result = np.subtract(a, b)\n",
        "print(\"Subtraction:\", sub_result)\n",
        "\n",
        "mul_result = np.multiply(a, b)\n",
        "print(\"Multiplication:\", mul_result)\n",
        "\n",
        "div_result = np.divide(a, b)\n",
        "print(\"Division:\", div_result)\n"
      ],
      "metadata": {
        "colab": {
          "base_uri": "https://localhost:8080/"
        },
        "id": "NSmYq8bXzCN8",
        "outputId": "7c4a1e2f-b5e3-4d5d-ffed-9af00cf9287d"
      },
      "execution_count": null,
      "outputs": [
        {
          "output_type": "stream",
          "name": "stdout",
          "text": [
            "Addition: [5 7 9]\n",
            "Subtraction: [-3 -3 -3]\n",
            "Multiplication: [ 4 10 18]\n",
            "Division: [0.25 0.4  0.5 ]\n"
          ]
        }
      ]
    },
    {
      "cell_type": "code",
      "source": [
        "import numpy as np\n",
        "\n",
        "array = np.arange(12)\n",
        "print(\"Original array:\", array)\n",
        "\n",
        "reshaped_array = array.reshape((3, 4))\n",
        "print(\"Reshaped to 3x4:\\n\", reshaped_array)\n",
        "\n",
        "reshaped_array_3d = array.reshape((2, 3, 2))\n",
        "print(\"Reshaped to 2x3x2:\\n\", reshaped_array_3d)\n"
      ],
      "metadata": {
        "colab": {
          "base_uri": "https://localhost:8080/"
        },
        "id": "GSSMRIKyzK-U",
        "outputId": "782cb1b0-9646-43f5-ce40-253c1d67d204"
      },
      "execution_count": null,
      "outputs": [
        {
          "output_type": "stream",
          "name": "stdout",
          "text": [
            "Original array: [ 0  1  2  3  4  5  6  7  8  9 10 11]\n",
            "Reshaped to 3x4:\n",
            " [[ 0  1  2  3]\n",
            " [ 4  5  6  7]\n",
            " [ 8  9 10 11]]\n",
            "Reshaped to 2x3x2:\n",
            " [[[ 0  1]\n",
            "  [ 2  3]\n",
            "  [ 4  5]]\n",
            "\n",
            " [[ 6  7]\n",
            "  [ 8  9]\n",
            "  [10 11]]]\n"
          ]
        }
      ]
    },
    {
      "cell_type": "code",
      "source": [
        "import numpy as np\n",
        "\n",
        "array_2d = np.array([[1, 2, 3], [4, 5, 6], [7, 8, 9]])\n",
        "print(\"2D Array:\\n\", array_2d)\n",
        "\n",
        "element = array_2d[1, 2]\n",
        "print(\"Element at (1, 2):\", element)\n"
      ],
      "metadata": {
        "id": "6RB1E1yZ0C39",
        "outputId": "7b359b3c-2c8c-44b0-8ff7-888ea42ff77f",
        "colab": {
          "base_uri": "https://localhost:8080/"
        }
      },
      "execution_count": null,
      "outputs": [
        {
          "output_type": "stream",
          "name": "stdout",
          "text": [
            "2D Array:\n",
            " [[1 2 3]\n",
            " [4 5 6]\n",
            " [7 8 9]]\n",
            "Element at (1, 2): 6\n"
          ]
        }
      ]
    },
    {
      "cell_type": "code",
      "source": [
        "import numpy as np\n",
        "\n",
        "array = np.array([1, 2, 3, 4, 5, 6, 7, 8, 9, 10])\n",
        "\n",
        "mean = np.mean(array)\n",
        "print(\"Mean:\", mean)\n",
        "\n",
        "median = np.median(array)\n",
        "print(\"Median:\", median)\n",
        "\n",
        "std_dev = np.std(array)\n",
        "print(\"Standard Deviation:\", std_dev)\n",
        "\n",
        "min_val = np.min(array)\n",
        "max_val = np.max(array)\n",
        "print(\"Minimum value:\", min_val)\n",
        "print(\"Maximum value:\", max_val)"
      ],
      "metadata": {
        "colab": {
          "base_uri": "https://localhost:8080/"
        },
        "id": "tLylf8nVGXGF",
        "outputId": "3f120c9e-2513-4714-86f3-4c9f74ae313a"
      },
      "execution_count": 1,
      "outputs": [
        {
          "output_type": "stream",
          "name": "stdout",
          "text": [
            "Mean: 5.5\n",
            "Median: 5.5\n",
            "Standard Deviation: 2.8722813232690143\n",
            "Minimum value: 1\n",
            "Maximum value: 10\n"
          ]
        }
      ]
    }
  ]
}